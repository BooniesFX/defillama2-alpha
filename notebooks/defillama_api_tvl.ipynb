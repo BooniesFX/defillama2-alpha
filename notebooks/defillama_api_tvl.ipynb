{
 "cells": [
  {
   "cell_type": "code",
   "execution_count": null,
   "id": "7b0c3fd5-3eb2-4ae1-b882-f43cfc15e542",
   "metadata": {},
   "outputs": [],
   "source": [
    "from defillama2alpha import DefiLlama\n",
    "import pandas as pd\n",
    "import matplotlib.pyplot as plt\n",
    "from matplotlib.ticker import FuncFormatter\n",
    "\n",
    "pd.set_option('display.max_columns', 15)\n",
    "pd.set_option('display.max_rows', 50)\n",
    "pd.options.display.float_format = '{:,.4f}'.format\n",
    "\n",
    "%matplotlib inline\n",
    "plt.rcParams['figure.figsize'] = (8, 6)\n",
    "plt.style.use(\"fivethirtyeight\")\n",
    "\n",
    "# Makes graphs crisp. Only use if you don't have a lot of points/lines on your graph.\n",
    "%config InlineBackend.figure_formats = ['svg', 'retina'] # use svg, then retina if svg is not supported"
   ]
  },
  {
   "cell_type": "code",
   "execution_count": null,
   "id": "663cb610-11cf-4171-af88-698a19c4674f",
   "metadata": {},
   "outputs": [],
   "source": [
    "def human_format_dollar_or_num(dollar=False, decimals=0):\n",
    "    \"\"\" \n",
    "    Return a function for formatting matplot axis numbers human friendly. \n",
    "\n",
    "    Parameters\n",
    "    ----------\n",
    "    dollar: logical\n",
    "        If True, will add $ in front of the numbers.\n",
    "    decimals: int\n",
    "        Number of decimals to display.\n",
    "    \"\"\"\n",
    "\n",
    "    base_fmt = '%.{}f%s'.format(decimals)\n",
    "    if dollar:\n",
    "        base_fmt = '$' + base_fmt\n",
    "\n",
    "    def human_format(num, pos): # pos is necessary as it'll be used by matplotlib\n",
    "        magnitude = 0\n",
    "        while abs(num) >= 1000:\n",
    "            magnitude += 1\n",
    "            num /= 1000.0\n",
    "        return base_fmt % (num, ['', 'K', 'M', 'B', 'T', 'P'][magnitude])\n",
    "    return human_format"
   ]
  },
  {
   "cell_type": "markdown",
   "id": "0882a566-614f-43ec-a395-413afd2f004e",
   "metadata": {},
   "source": [
    "## Create a DefiLlama instance"
   ]
  },
  {
   "cell_type": "code",
   "execution_count": null,
   "id": "9ec6cbc9-201f-4422-b72f-f8ea85f70179",
   "metadata": {},
   "outputs": [],
   "source": [
    "obj = DefiLlama()"
   ]
  },
  {
   "cell_type": "markdown",
   "id": "9d737207-8e0f-4d11-9096-13fbe355b66d",
   "metadata": {
    "tags": []
   },
   "source": [
    "## Get historical DeFi TVL on all chains"
   ]
  },
  {
   "cell_type": "code",
   "execution_count": null,
   "id": "05d45f9a-03ea-4bee-aadb-19b45c6b33fb",
   "metadata": {},
   "outputs": [],
   "source": [
    "df = obj.get_defi_hist_tvl()\n",
    "df.tail()"
   ]
  },
  {
   "cell_type": "code",
   "execution_count": null,
   "id": "2b23905d-f7d3-4a7f-8a0f-e7bd8fe6f29d",
   "metadata": {},
   "outputs": [],
   "source": [
    "ax = df.tvl.plot()\n",
    "dollar_formatter = FuncFormatter(human_format_dollar_or_num(dollar=True, decimals=0))\n",
    "ax.yaxis.set_major_formatter(dollar_formatter)\n",
    "plt.ylabel(\"USD\")\n",
    "plt.title(\"DeFi TVL\");"
   ]
  },
  {
   "cell_type": "markdown",
   "id": "04f7a8df-d7c4-48ab-956e-fc2fb2abe5be",
   "metadata": {
    "tags": []
   },
   "source": [
    "## Get historical TVL of a chain"
   ]
  },
  {
   "cell_type": "code",
   "execution_count": null,
   "id": "237d9f85-b1ff-412f-b713-438b9637b2ae",
   "metadata": {},
   "outputs": [],
   "source": [
    "df = obj.get_chain_hist_tvl('Arbitrum')\n",
    "df.tail()"
   ]
  },
  {
   "cell_type": "code",
   "execution_count": null,
   "id": "b4e83e13-4f66-4967-b70e-2197fdeacd5c",
   "metadata": {},
   "outputs": [],
   "source": [
    "ax = df.tvl.plot()\n",
    "dollar_formatter = FuncFormatter(human_format_dollar_or_num(dollar=True, decimals=1))\n",
    "ax.yaxis.set_major_formatter(dollar_formatter)\n",
    "plt.ylabel(\"USD\")\n",
    "plt.title(\"Arbitrum TVL\");"
   ]
  },
  {
   "cell_type": "markdown",
   "id": "bce33ee0-730a-45c9-82d7-3d3efa365bab",
   "metadata": {
    "tags": []
   },
   "source": [
    "## Get current TVL of all chains"
   ]
  },
  {
   "cell_type": "code",
   "execution_count": null,
   "id": "2c96edfb-a0b7-4f7b-a763-e7b512715158",
   "metadata": {},
   "outputs": [],
   "source": [
    "df = obj.get_chains_curr_tvl()\n",
    "\n",
    "# print top 10 chains by tvl\n",
    "df = df.sort_values('tvl', ascending=False) \n",
    "df.head(10)"
   ]
  },
  {
   "cell_type": "markdown",
   "id": "8fe74abb-affa-4d0b-b13f-1eab65cd8f22",
   "metadata": {
    "tags": []
   },
   "source": [
    "## Get current TVL of a protocol"
   ]
  },
  {
   "cell_type": "code",
   "execution_count": null,
   "id": "e24ac64d",
   "metadata": {},
   "outputs": [],
   "source": [
    "print('Current TVL of Uniswap:', obj.get_protocol_curr_tvl('uniswap'))\n",
    "print('Current TVL of Aave:', obj.get_protocol_curr_tvl('aave'))"
   ]
  },
  {
   "cell_type": "code",
   "execution_count": null,
   "id": "d48a142e-2694-4627-a1ea-7d797048155d",
   "metadata": {},
   "outputs": [],
   "source": [
    "obj.get_protocol_curr_tvl('gmx')"
   ]
  },
  {
   "cell_type": "code",
   "execution_count": null,
   "id": "046e7ff4-4163-4a0b-899a-0a440813aa35",
   "metadata": {},
   "outputs": [],
   "source": [
    "obj.get_protocol_curr_tvl('premia')"
   ]
  },
  {
   "cell_type": "markdown",
   "id": "32e65a28-b919-4327-879f-b0699d22eefb",
   "metadata": {
    "tags": []
   },
   "source": [
    "## Get current TVL of a protocol broken down by chain"
   ]
  },
  {
   "cell_type": "code",
   "execution_count": null,
   "id": "4e017c57-267d-4f2e-a8c7-d72804dd581a",
   "metadata": {},
   "outputs": [],
   "source": [
    "df = obj.get_protocol_curr_tvl_by_chain('gmx')\n",
    "df"
   ]
  },
  {
   "cell_type": "code",
   "execution_count": null,
   "id": "db8ffc54-e3e6-452c-a4ed-7940c6a05920",
   "metadata": {},
   "outputs": [],
   "source": [
    "df = obj.get_protocol_curr_tvl_by_chain('premia')\n",
    "df"
   ]
  },
  {
   "cell_type": "code",
   "execution_count": null,
   "id": "e6e4e7d1-b34c-48d9-90c6-143f3e1981c0",
   "metadata": {},
   "outputs": [],
   "source": [
    "# let's get AAVE's current TVL\n",
    "obj.get_protocol_curr_tvl_by_chain('aave')"
   ]
  },
  {
   "cell_type": "markdown",
   "id": "b0493f2f-6319-4e05-bd42-e00bdf81c4de",
   "metadata": {
    "tags": []
   },
   "source": [
    "## Get historical TVL of a protocol by chain"
   ]
  },
  {
   "cell_type": "code",
   "execution_count": null,
   "id": "8852d7cd-57b4-463a-95e7-376f7db2baf7",
   "metadata": {},
   "outputs": [],
   "source": [
    "dd = obj.get_protocol_hist_tvl_by_chain('gmx')"
   ]
  },
  {
   "cell_type": "code",
   "execution_count": null,
   "id": "2240132a-364e-47d4-b4d6-96b8ed41daf6",
   "metadata": {},
   "outputs": [],
   "source": [
    "ax = dd['Arbitrum'].tvl.plot()\n",
    "dollar_formatter = FuncFormatter(human_format_dollar_or_num(dollar=True, decimals=0))\n",
    "ax.yaxis.set_major_formatter(dollar_formatter)\n",
    "plt.ylabel(\"USD\")\n",
    "plt.title(\"GMX TVL on Arbitrum, excluding staked GMX/esGMX\");"
   ]
  },
  {
   "cell_type": "code",
   "execution_count": null,
   "id": "2f40f9df-8767-4c19-b0a6-476ea1078ebb",
   "metadata": {},
   "outputs": [],
   "source": [
    "ax = dd['Arbitrum-staking'].tvl.plot()\n",
    "ax.yaxis.set_major_formatter(dollar_formatter)\n",
    "plt.ylabel(\"USD\")\n",
    "plt.title(\"staked GMX/esGMX TVL on Arbitrum\");"
   ]
  },
  {
   "cell_type": "code",
   "execution_count": null,
   "id": "71cfb06a-cff5-4a2e-a5f5-fdffdda2609f",
   "metadata": {},
   "outputs": [],
   "source": [
    "ax = dd['Avalanche'].tvl.plot()\n",
    "ax.yaxis.set_major_formatter(dollar_formatter)\n",
    "plt.ylabel(\"USD\")\n",
    "plt.title(\"GMX TVL on Avalanche, excluding staked GMX/esGMX\");"
   ]
  },
  {
   "cell_type": "code",
   "execution_count": null,
   "id": "5b01ca85-7c52-4288-9daf-869de800882b",
   "metadata": {},
   "outputs": [],
   "source": [
    "ax = dd['Avalanche-staking'].tvl.plot()\n",
    "ax.yaxis.set_major_formatter(dollar_formatter)\n",
    "plt.ylabel(\"USD\")\n",
    "plt.title(\"staked GMX/esGMX TVL on Avalanche\");"
   ]
  },
  {
   "cell_type": "markdown",
   "id": "77abccb5-a1f6-4114-9b48-89e88fdddd45",
   "metadata": {
    "tags": []
   },
   "source": [
    "## Get fundamentals for all protocols"
   ]
  },
  {
   "cell_type": "code",
   "execution_count": null,
   "id": "c5297b5c-4079-4670-90cb-dc46b350e5f4",
   "metadata": {},
   "outputs": [],
   "source": [
    "df = obj.get_protocols_fundamentals()\n",
    "df = df.sort_values('tvl', ascending=False, ignore_index=True)\n",
    "df.head(10)"
   ]
  },
  {
   "cell_type": "code",
   "execution_count": null,
   "id": "576966df-8ded-49f8-bc00-796a2764ea48",
   "metadata": {},
   "outputs": [],
   "source": [
    "# find the 5 protocols with the biggest % jump in TVL in last 7 days\n",
    "df.sort_values('change_7d', ascending=False, ignore_index=True).head(5)"
   ]
  },
  {
   "cell_type": "code",
   "execution_count": null,
   "id": "532d721b-a2ac-4ad1-a5a9-1c9d866cfe00",
   "metadata": {},
   "outputs": [],
   "source": [
    "# derive other metrics\n",
    "ha = (df.loc[:, ['name', 'category', 'tvl', 'mcap']]#'fdv'\n",
    "        .assign(mcap_per_tvl = df.mcap / df.tvl) #fdv_per_tvl = df.fdv / df.tvl)\n",
    "     )\n",
    "ha          "
   ]
  },
  {
   "cell_type": "code",
   "execution_count": null,
   "id": "312bb55b-1942-4747-8875-42a5e307068c",
   "metadata": {},
   "outputs": [],
   "source": [
    "# aggregate by category\n",
    "ha.groupby('category')[['tvl','mcap']].sum()#'fdv'"
   ]
  }
 ],
 "metadata": {
  "kernelspec": {
   "display_name": "Python 3",
   "language": "python",
   "name": "python3"
  },
  "language_info": {
   "codemirror_mode": {
    "name": "ipython",
    "version": 3
   },
   "file_extension": ".py",
   "mimetype": "text/x-python",
   "name": "python",
   "nbconvert_exporter": "python",
   "pygments_lexer": "ipython3",
   "version": "3.11.0"
  },
  "vscode": {
   "interpreter": {
    "hash": "c261aea317cc0286b3b3261fbba9abdec21eaa57589985bb7a274bf54d6cc0a7"
   }
  }
 },
 "nbformat": 4,
 "nbformat_minor": 5
}
